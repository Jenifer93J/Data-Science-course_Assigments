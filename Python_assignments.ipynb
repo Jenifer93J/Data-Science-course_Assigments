{
 "cells": [
  {
   "cell_type": "code",
   "execution_count": 1,
   "metadata": {},
   "outputs": [],
   "source": [
    "#Assignments on Strings"
   ]
  },
  {
   "cell_type": "code",
   "execution_count": 2,
   "metadata": {},
   "outputs": [],
   "source": [
    "str = \" I am very keen in building up my career in Data Science, but not sure from where to start. If I search the web it throws me thousands of articles, few are relevant others make me confused, again I come around to the same page. Supervised has provided me a good platform to remove all such qualms which were wrangling in my mind\""
   ]
  },
  {
   "cell_type": "code",
   "execution_count": 4,
   "metadata": {},
   "outputs": [
    {
     "name": "stdout",
     "output_type": "stream",
     "text": [
      "******average length of string*****\n",
      "['I', 'am', 'very', 'keen', 'in', 'building', 'up', 'my', 'career', 'in', 'Data', 'Science,', 'but', 'not', 'sure', 'from', 'where', 'to', 'start.', 'If', 'I', 'search', 'the', 'web', 'it', 'throws', 'me', 'thousands', 'of', 'articles,', 'few', 'are', 'relevant', 'others', 'make', 'me', 'confused,', 'again', 'I', 'come', 'around', 'to', 'the', 'same', 'page.', 'Supervised', 'has', 'provided', 'me', 'a', 'good', 'platform', 'to', 'remove', 'all', 'such', 'qualms', 'which', 'were', 'wrangling', 'in', 'my', 'mind']\n",
      "lenth of the string : 265\n",
      "Number of words : 63\n",
      "Average length of the string : 4.2063492063492065\n"
     ]
    }
   ],
   "source": [
    "#average length of string = length of strings/number of strings(words)\n",
    "print(\"******average length of string*****\")\n",
    "lst_words = str.split()\n",
    "print(lst_words)\n",
    "b = 0\n",
    "for i in lst_words:\n",
    "    a = len(i)\n",
    "    b +=a\n",
    "avg = b / len(lst_words)\n",
    "print(\"lenth of the string :\",b)\n",
    "print(\"Number of words :\",len(lst_words))\n",
    "print(\"Average length of the string :\", avg)\n"
   ]
  },
  {
   "cell_type": "code",
   "execution_count": 5,
   "metadata": {},
   "outputs": [
    {
     "name": "stdout",
     "output_type": "stream",
     "text": [
      "\n",
      "******2. Lower the text in the string*****\n",
      " \n",
      " Lower case of str :   i am very keen in building up my career in data science, but not sure from where to start. if i search the web it throws me thousands of articles, few are relevant others make me confused, again i come around to the same page. supervised has provided me a good platform to remove all such qualms which were wrangling in my mind\n"
     ]
    }
   ],
   "source": [
    "#2. Lower the text in the string.\n",
    "print(\"\\n******2. Lower the text in the string*****\")\n",
    "print(\" \\n Lower case of str : \", str.lower())\n"
   ]
  },
  {
   "cell_type": "code",
   "execution_count": 6,
   "metadata": {},
   "outputs": [
    {
     "name": "stdout",
     "output_type": "stream",
     "text": [
      "\n",
      "******Try to get the clean text removing the punctuation from the string.*****\n",
      "\n",
      "Text without punctuations :  I am very keen in building up my career in Data Science but not sure from where to start If I search the web it throws me thousands of articles few are relevant others make me confused again I come around to the same page Supervised has provided me a good platform to remove all such qualms which were wrangling in my mind\n"
     ]
    }
   ],
   "source": [
    "#3. Try to get the clean text removing the punctuation from the string.\n",
    "print(\"\\n******Try to get the clean text removing the punctuation from the string.*****\")\n",
    "punctuations = '''!()-[]{};:'\"\\,<>./?@#$%^&*_~'''\n",
    "\n",
    "for s in str.lower():\n",
    "    if s in punctuations:\n",
    "        str = str.replace(s, \"\")\n",
    "print(\"\\nText without punctuations : {}\".format(str))\n"
   ]
  },
  {
   "cell_type": "code",
   "execution_count": 7,
   "metadata": {},
   "outputs": [
    {
     "name": "stdout",
     "output_type": "stream",
     "text": [
      "\n",
      "******4.Extract word Data Science from the string.*****\n",
      "\n",
      " Extracted word :  Data Science\n"
     ]
    }
   ],
   "source": [
    "#4.Extract word \"Data Science\" from the string.\n",
    "print(\"\\n******4.Extract word \"\"Data Science\"\" from the string.*****\")\n",
    "lst_words = str.split()\n",
    "x = \"\"\n",
    "ind = 0\n",
    "for i in lst_words:\n",
    "    ind +=1\n",
    "    if i == \"Data\" and (lst_words[ind]) == \"Science\":\n",
    "        x = i + \" \" + (lst_words[ind])\n",
    "print(\"\\n Extracted word : \", x)"
   ]
  },
  {
   "cell_type": "code",
   "execution_count": 8,
   "metadata": {},
   "outputs": [
    {
     "name": "stdout",
     "output_type": "stream",
     "text": [
      "\n",
      "******5. Frequency of words used in the string*****\n",
      "Frequency of each word in the string : \n",
      " {'I': 3, 'am': 1, 'very': 1, 'keen': 1, 'in': 3, 'building': 1, 'up': 1, 'my': 2, 'career': 1, 'Data': 1, 'Science': 1, 'but': 1, 'not': 1, 'sure': 1, 'from': 1, 'where': 1, 'to': 3, 'start': 1, 'If': 1, 'search': 1, 'the': 2, 'web': 1, 'it': 1, 'throws': 1, 'me': 3, 'thousands': 1, 'of': 1, 'articles': 1, 'few': 1, 'are': 1, 'relevant': 1, 'others': 1, 'make': 1, 'confused': 1, 'again': 1, 'come': 1, 'around': 1, 'same': 1, 'page': 1, 'Supervised': 1, 'has': 1, 'provided': 1, 'a': 1, 'good': 1, 'platform': 1, 'remove': 1, 'all': 1, 'such': 1, 'qualms': 1, 'which': 1, 'were': 1, 'wrangling': 1, 'mind': 1}\n"
     ]
    }
   ],
   "source": [
    "#5. Frequency of words used in the string.\n",
    "print(\"\\n******5. Frequency of words used in the string*****\")\n",
    "freq_wrds = []\n",
    "freq_wrds = {x: lst_words.count(x) for x in lst_words}\n",
    "print(\"Frequency of each word in the string : \\n\", freq_wrds)"
   ]
  },
  {
   "cell_type": "code",
   "execution_count": 9,
   "metadata": {},
   "outputs": [
    {
     "name": "stdout",
     "output_type": "stream",
     "text": [
      "\n",
      "******6. Words which occurred more than once in the string.*****\n",
      "Frequency of each word in the string : \n",
      " {'I': 3, 'in': 3, 'my': 2, 'to': 3, 'the': 2, 'me': 3}\n"
     ]
    }
   ],
   "source": [
    "#6. Find all the words which occurred more than once in the string.\n",
    "print(\"\\n******6. Words which occurred more than once in the string.*****\")\n",
    "freq_wrds_2 = {x: lst_words.count(x) for x in lst_words if lst_words.count(x) > 1}\n",
    "print(\"Frequency of each word in the string : \\n\", freq_wrds_2)"
   ]
  },
  {
   "cell_type": "code",
   "execution_count": 12,
   "metadata": {},
   "outputs": [
    {
     "name": "stdout",
     "output_type": "stream",
     "text": [
      "Updated String :  I am very keen in building up my career in Data Science, but not sure from where to start. If I search the web it throws me thousands of articles, few are relevant others make me confused, again I come around to the same page. Unsupervised has provided me a good platform to remove all such qualms which were wrangling in my mind\n"
     ]
    }
   ],
   "source": [
    "#7. Can you change the word \"Supervised\" to \"Unsupervised\" in the string\n",
    "str1 = \" I am very keen in building up my career in Data Science, but not sure from where to start. If I search the web it throws me thousands of articles, few are relevant others make me confused, again I come around to the same page. Supervised has provided me a good platform to remove all such qualms which were wrangling in my mind\"\n",
    "\n",
    "lst_words = str1.split()\n",
    "ind = 0\n",
    "a = lst_words.index(\"Supervised\")\n",
    "str2 = \"\"\n",
    "for x in lst_words:\n",
    "    ind +=1\n",
    "    if x == \"Supervised\":\n",
    "        lst_words[ind-1] = \"Unsupervised\"\n",
    "        str2 = str2 + \" \" + lst_words[ind-1]\n",
    "    else:\n",
    "        str2 = str2 + \" \" + x\n",
    "print(\"Updated String :\", str2)"
   ]
  },
  {
   "cell_type": "code",
   "execution_count": 13,
   "metadata": {},
   "outputs": [
    {
     "name": "stdout",
     "output_type": "stream",
     "text": [
      "[' I am very keen in building up my career in Data Science, but not sure from where to start', ' If I search the web it throws me thousands of articles, few are relevant others make me confused, again I come around to the same page', ' Supervised has provided me a good platform to remove all such qualms which were wrangling in my mind']\n"
     ]
    }
   ],
   "source": [
    "#8. Splitting of the string with a dot operator(.)\n",
    "\n",
    "lst_words = str1.split(\".\")\n",
    "print(lst_words)\n"
   ]
  },
  {
   "cell_type": "code",
   "execution_count": 14,
   "metadata": {},
   "outputs": [
    {
     "name": "stdout",
     "output_type": "stream",
     "text": [
      "Words ends with 'e' ['sure', 'where', 'the', 'me', 'are', 'make', 'me', 'come', 'the', 'same', 'me', 'remove', 'were']\n"
     ]
    }
   ],
   "source": [
    "#9. Find the words from the string which ends with \"e\"\n",
    "lst_words = str1.split()\n",
    "words_e = [x for x in lst_words if x.endswith(\"e\") == True]\n",
    "print(\"Words ends with 'e'\", words_e)"
   ]
  },
  {
   "cell_type": "code",
   "execution_count": 16,
   "metadata": {},
   "outputs": [
    {
     "name": "stdout",
     "output_type": "stream",
     "text": [
      "Number of 'a's in the string 22\n"
     ]
    }
   ],
   "source": [
    "#10. Figure out number of a's used in the string.\n",
    "count = 0\n",
    "for x in str1:\n",
    "    if x == 'a':\n",
    "        count +=1\n",
    "print(\"Number of 'a's in the string\", count)"
   ]
  },
  {
   "cell_type": "code",
   "execution_count": 17,
   "metadata": {},
   "outputs": [],
   "source": [
    "#Questions on Dictionary"
   ]
  },
  {
   "cell_type": "code",
   "execution_count": 18,
   "metadata": {},
   "outputs": [],
   "source": [
    "purchase_lst = {'Apple' : 0.25, 'Sugar' : 0.5, 'Rice' : 2.5, 'Milk' : 2.5, 'Egg' : 1}"
   ]
  },
  {
   "cell_type": "code",
   "execution_count": 19,
   "metadata": {},
   "outputs": [
    {
     "name": "stdout",
     "output_type": "stream",
     "text": [
      "{'Apple': 0.25, 'Sugar': 0.5, 'Rice': 2.5, 'Milk': 2.5, 'Egg': 1, 'Atta': 1}\n"
     ]
    }
   ],
   "source": [
    "#I forgot to mention another item, 1kg of atta packet. Can you also add it ?\n",
    "\n",
    "purchase_lst.update({'Atta' : 1})\n",
    "print(purchase_lst)"
   ]
  },
  {
   "cell_type": "code",
   "execution_count": 21,
   "metadata": {},
   "outputs": [
    {
     "name": "stdout",
     "output_type": "stream",
     "text": [
      "{'Apple': 0.25, 'Sugar': 0.5, 'Rice': 1, 'Milk': 2.5, 'Egg': 1, 'Atta': 1}\n"
     ]
    }
   ],
   "source": [
    "#Instead of 2kg of rice, I bought only 1kg of rice. Can you change the corresponding value ?\n",
    "for k in purchase_lst.keys():\n",
    "    if k == 'Rice':\n",
    "        purchase_lst[k] = 1\n",
    "print(purchase_lst)\n"
   ]
  },
  {
   "cell_type": "code",
   "execution_count": 22,
   "metadata": {},
   "outputs": [
    {
     "name": "stdout",
     "output_type": "stream",
     "text": [
      "Commodities \t Quantity\n",
      "Apple  \t\t  0.25 kg\n",
      "Sugar  \t\t  0.5 kg\n",
      "Rice  \t\t  1 kg\n",
      "Milk  \t\t  2.5 kg\n",
      "Egg  \t\t  1 kg\n",
      "Atta  \t\t  1 kg\n",
      "Commodities \t Quantity\n",
      "Apple             0.25Kg\n",
      "Sugar              0.5Kg\n",
      "Rice                 1Kg\n",
      "Milk               2.5Kg\n",
      "Egg                  1Kg\n",
      "Atta                 1Kg\n"
     ]
    }
   ],
   "source": [
    "#Can you list out all these items using a loop.\n",
    "print(\"Commodities \\t Quantity\")\n",
    "for k, v in purchase_lst.items():\n",
    "    print(k ,\" \\t\\t \", v,\"kg\")\n",
    "#or\n",
    "print(\"Commodities \\t Quantity\")\n",
    "for k, v in purchase_lst.items():\n",
    "    print(\"{:<11}{:11}Kg\".format(k,v))\n"
   ]
  },
  {
   "cell_type": "code",
   "execution_count": 23,
   "metadata": {},
   "outputs": [],
   "source": [
    "#However, the cost of 1 kg apple is Rs.220, 1 kg of sugar is Rs.43, 1 Kg of rice is Rs. 45, 1 litre of milk is Rs.30 and 1 dozen of egg is Rs. 60.\n",
    "#Create another dictionary for pricing.\n",
    "price_lst = {'Apple' : 220, 'Sugar' : 43, 'Rice' : 45, 'Milk' : 30, 'Egg' : 60}"
   ]
  },
  {
   "cell_type": "code",
   "execution_count": 29,
   "metadata": {},
   "outputs": [
    {
     "name": "stdout",
     "output_type": "stream",
     "text": [
      "******************XYZ Super Market - Bill*************************\n",
      "Items \t\t Price \t\t Quantity \t Purchace Price(Rs)\n",
      "Apple \t\t 60/kg \t\t 0.25kg \t\t 55.0\n",
      "Sugar \t\t 60/kg \t\t 0.5kg \t\t 21.5\n",
      "Rice \t\t 60/kg \t\t 1kg \t\t 45\n",
      "Milk \t\t 60/lt \t\t 2.5lts \t 75.0\n",
      "Egg \t\t 60/dz \t\t 1 dz \t\t 60\n",
      "Atta \t\t 60/kg \t\t 1kg \t\t 60\n",
      "Total Purchase price :  256.5\n"
     ]
    }
   ],
   "source": [
    "#prepare a bill for me of the overall cost of the total commodities purchased by using two dictionaries\n",
    "Total = 0\n",
    "print(\"******************XYZ Super Market - Bill*************************\")\n",
    "print(\"Items \\t\\t Price \\t\\t Quantity \\t Purchace Price(Rs)\")\n",
    "for comm, qty in purchase_lst.items():\n",
    "    for comms, prc in price_lst.items():\n",
    "        if comm ==comms:\n",
    "            purchase_prc = qty*prc\n",
    "            Total += purchase_prc\n",
    "    if comm == \"Milk\":\n",
    "        print(\"{} \\t\\t {}/lt \\t\\t {}lts \\t {}\".format(comm,prc,qty,purchase_prc))\n",
    "    elif comm == \"Egg\":\t\n",
    "        print(\"{} \\t\\t {}/dz \\t\\t {} dz \\t\\t {}\".format(comm,prc,qty,purchase_prc))\n",
    "    else:\n",
    "        print(\"{} \\t\\t {}/kg \\t\\t {}kg \\t\\t {}\".format(comm,prc,qty,purchase_prc))\n",
    "print(\"Total Purchase price : \",Total)"
   ]
  },
  {
   "cell_type": "code",
   "execution_count": 30,
   "metadata": {},
   "outputs": [],
   "source": [
    "#Questions on LIST:"
   ]
  },
  {
   "cell_type": "code",
   "execution_count": 45,
   "metadata": {},
   "outputs": [],
   "source": [
    "AI_COMPANIES = ['Amazon','Facebook','HiSilicon','Google','Apple','Microsoft','SenseTime']"
   ]
  },
  {
   "cell_type": "code",
   "execution_count": 46,
   "metadata": {},
   "outputs": [
    {
     "name": "stdout",
     "output_type": "stream",
     "text": [
      "Sorting the list in ascending order\n",
      "['Amazon', 'Apple', 'Facebook', 'Google', 'HiSilicon', 'Microsoft', 'SenseTime']\n"
     ]
    }
   ],
   "source": [
    "AI_COMPANIES.sort() \n",
    "#1. Sort the list in ascending order\n",
    "print(\"Sorting the list in ascending order\")\n",
    "print(AI_COMPANIES)\n"
   ]
  },
  {
   "cell_type": "code",
   "execution_count": 47,
   "metadata": {},
   "outputs": [
    {
     "name": "stdout",
     "output_type": "stream",
     "text": [
      "\n",
      " Extended list of companies: ['Amazon', 'Apple', 'Facebook', 'Google', 'HiSilicon', 'Microsoft', 'SenseTime', 'Nvidia', 'OpenAI', 'Reliance']\n"
     ]
    }
   ],
   "source": [
    "#2. Add multiple companies at once 'Nvidia', 'OpenAI' , 'Qualcomm' and 'Reliance' to the list\n",
    "\n",
    "New_lst = ['Nvidia', 'OpenAI' , 'Qualcomm' and 'Reliance']\n",
    "AI_COMPANIES.extend(New_lst)\n",
    "print(\"\\n Extended list of companies:\", AI_COMPANIES)\n",
    "\n"
   ]
  },
  {
   "cell_type": "code",
   "execution_count": 48,
   "metadata": {},
   "outputs": [
    {
     "name": "stdout",
     "output_type": "stream",
     "text": [
      "\n",
      " Lower cased list : ['amazon', 'apple', 'facebook', 'google', 'hisilicon', 'microsoft', 'sensetime', 'nvidia', 'openai', 'reliance']\n",
      "\n",
      " After Eliminating Relinace :  ['amazon', 'apple', 'facebook', 'google', 'hisilicon', 'microsoft', 'sensetime', 'nvidia', 'openai']\n",
      "\n",
      " Extracted list :  ['facebook', 'google', 'microsoft']\n"
     ]
    }
   ],
   "source": [
    "#3. Lower the list using List comprehension\n",
    "AI_COMPANIES = [x.lower() for x in AI_COMPANIES]\n",
    "print(\"\\n Lower cased list :\", AI_COMPANIES)\n",
    "\n",
    "#4. Elimiate 'Reliance' from the list\n",
    "AI_COMPANIES.remove(\"reliance\")\n",
    "print(\"\\n After Eliminating Relinace : \",AI_COMPANIES)\n",
    "\n",
    "#5. Extract 'Facebook', 'Google' and 'Microsoft' using a single command\n",
    "ext_lst = [x for x in AI_COMPANIES if (x == 'facebook' or x == 'google' or x =='microsoft')]\n",
    "print(\"\\n Extracted list : \",ext_lst)\n"
   ]
  },
  {
   "cell_type": "code",
   "execution_count": null,
   "metadata": {},
   "outputs": [],
   "source": [
    "#Question on Tuple"
   ]
  },
  {
   "cell_type": "code",
   "execution_count": 49,
   "metadata": {},
   "outputs": [
    {
     "name": "stdout",
     "output_type": "stream",
     "text": [
      "<class 'tuple'>\n",
      "\n",
      "Minimum price :  30\n",
      "\n",
      "Minimum price :  220\n",
      "('Amazon', 'Facebook', 'HiSilicon', 'Google', 'Apple', 'Microsoft', 'SenseTime')\n",
      "<class 'tuple'>\n",
      "\n",
      "Combined tuple :  (220, 43, 45, 30, 60, 'Amazon', 'Facebook', 'HiSilicon', 'Google', 'Apple', 'Microsoft', 'SenseTime')\n",
      "\n",
      "Length of Tuple2(AI_companies_tup) is greater than Tuple1(price_lst)\n"
     ]
    }
   ],
   "source": [
    "#the cost of 1 kg apple is Rs.220, 1 kg of sugar is Rs.43, 1 Kg of rice is Rs. 45, 1 litre of milk is Rs.30 and 1 dozen of egg is Rs. 60.\n",
    "#(a)Consider the above standard price problem statement and place the prices in the form of the tuple.\n",
    "price_lst = (220,43,45,30,60)\n",
    "print(type(price_lst))\n",
    "\n",
    "#(b)Find out the min and max price among them.\n",
    "print(\"\\nMinimum price : \", min(price_lst))\n",
    "print(\"\\nMinimum price : \", max(price_lst))\n",
    "\n",
    "#(c)Also, convert the above \"AI_companies\" list to a tuple.\n",
    "AI_COMPANIES =['Amazon','Facebook','HiSilicon','Google','Apple','Microsoft','SenseTime']\n",
    "\n",
    "AI_companies_tup = tuple(AI_COMPANIES)\n",
    "print(AI_companies_tup)\n",
    "print(type(AI_companies_tup))\n",
    "\n",
    "#(d)Combine two above tuples to a single tuple.\n",
    "Comb_tuple = price_lst + AI_companies_tup\n",
    "print(\"\\nCombined tuple : \", Comb_tuple)\n",
    "\n",
    "#(e)Compare the length of two tuples.\n",
    "x = len(price_lst)\n",
    "y = len(AI_companies_tup)\n",
    "if x<y:\n",
    "    print(\"\\nLength of Tuple2(AI_companies_tup) is greater than Tuple1(price_lst)\")\n",
    "elif x>y:\n",
    "    print(\"\\nLength of Tuple1(price_lst) is greater than Tuple2(AI_companies_tup)\")\n",
    "else:\n",
    "    print(\"\\nLength of both the tuple are equal\")\n"
   ]
  },
  {
   "cell_type": "code",
   "execution_count": null,
   "metadata": {},
   "outputs": [],
   "source": []
  }
 ],
 "metadata": {
  "kernelspec": {
   "display_name": "Python 3",
   "language": "python",
   "name": "python3"
  },
  "language_info": {
   "codemirror_mode": {
    "name": "ipython",
    "version": 3
   },
   "file_extension": ".py",
   "mimetype": "text/x-python",
   "name": "python",
   "nbconvert_exporter": "python",
   "pygments_lexer": "ipython3",
   "version": "3.7.6"
  }
 },
 "nbformat": 4,
 "nbformat_minor": 4
}
