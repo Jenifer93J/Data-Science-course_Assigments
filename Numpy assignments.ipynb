{
 "cells": [
  {
   "cell_type": "markdown",
   "metadata": {},
   "source": [
    "NUMPY ASSIGNMENTS\n",
    "\n",
    "1.\tCreate a 1D array of numbers from 0 to 9."
   ]
  },
  {
   "cell_type": "code",
   "execution_count": 1,
   "metadata": {},
   "outputs": [
    {
     "name": "stdout",
     "output_type": "stream",
     "text": [
      "**** Create a 1D array of numbers from 0 to 9****\n",
      "\n",
      " 1-D array from 0 to 9 : [0 1 2 3 4 5 6 7 8 9]\n"
     ]
    }
   ],
   "source": [
    "import numpy as np\n",
    "\n",
    "x = np.arange(0,10)\n",
    "print(\"**** Create a 1D array of numbers from 0 to 9****\")\n",
    "print(\"\\n 1-D array from 0 to 9 :\",x)\n"
   ]
  },
  {
   "cell_type": "markdown",
   "metadata": {},
   "source": [
    "2.\tCreate a 3×3 numpy array of all True’s"
   ]
  },
  {
   "cell_type": "code",
   "execution_count": 2,
   "metadata": {},
   "outputs": [
    {
     "name": "stdout",
     "output_type": "stream",
     "text": [
      "****Create a 3×3 numpy array of all True’s****\n",
      "\n",
      " 3×3 numpy array of all True’s : [[ True  True  True]\n",
      " [ True  True  True]\n",
      " [ True  True  True]]\n"
     ]
    }
   ],
   "source": [
    "import numpy as np\n",
    "x = np.ones(shape=(3,3),dtype=bool)\n",
    "print(\"****Create a 3×3 numpy array of all True’s****\")\n",
    "print(\"\\n 3×3 numpy array of all True’s :\",x)\n"
   ]
  },
  {
   "cell_type": "markdown",
   "metadata": {},
   "source": [
    "3.\tGiven an array as input, print only odd numbers as output"
   ]
  },
  {
   "cell_type": "code",
   "execution_count": 3,
   "metadata": {},
   "outputs": [
    {
     "name": "stdout",
     "output_type": "stream",
     "text": [
      "****Given an array as input, print only odd numbers as output****\n",
      "Input array : [[1 2 3]\n",
      " [4 5 6]\n",
      " [7 8 9]]\n",
      "1\n",
      "3\n",
      "5\n",
      "7\n",
      "9\n"
     ]
    }
   ],
   "source": [
    "import numpy as np\n",
    "x = np.array([[1,2,3],[4,5,6],[7,8,9]])\n",
    "print(\"****Given an array as input, print only odd numbers as output****\")\n",
    "print(\"Input array :\", x)\n",
    "n = x.shape\n",
    "i = 0\n",
    "j = 0\n",
    "for i in range(0,n[0]):\n",
    "    for j in range(0,n[1]):\n",
    "        if ((x[i][j])%2 != 0):\n",
    "            print(x[i][j])"
   ]
  },
  {
   "cell_type": "code",
   "execution_count": 5,
   "metadata": {},
   "outputs": [
    {
     "name": "stdout",
     "output_type": "stream",
     "text": [
      "****Replace all odd numbers in arr with -2****\n",
      "Input array : [[1 2 3]\n",
      " [4 5 6]\n",
      " [7 8 9]]\n",
      "Output array : [[-2  2 -2]\n",
      " [ 4 -2  6]\n",
      " [-2  8 -2]]\n"
     ]
    }
   ],
   "source": [
    "#4.\tReplace all odd numbers in arr with -2\n",
    "import numpy as np\n",
    "\n",
    "x = np.array([[1,2,3],[4,5,6],[7,8,9]])\n",
    "print(\"****Replace all odd numbers in arr with -2****\")\n",
    "print(\"Input array :\", x)\n",
    "n = x.shape\n",
    "i = 0\n",
    "j = 0\n",
    "for i in range(0,n[0]):\n",
    "    for j in range(0,n[1]):\n",
    "        if ((x[i][j])%2 != 0):\n",
    "\t        x[i][j] = -2\n",
    "\n",
    "print(\"Output array :\",x)\n"
   ]
  },
  {
   "cell_type": "code",
   "execution_count": 6,
   "metadata": {},
   "outputs": [
    {
     "name": "stdout",
     "output_type": "stream",
     "text": [
      "****5. How to reshape an array?****\n",
      "Input array : [[1 2 3]\n",
      " [4 5 6]]\n",
      "Output array : [[1 2]\n",
      " [3 4]\n",
      " [5 6]]\n"
     ]
    }
   ],
   "source": [
    "# 5.\tHow to reshape an array?\n",
    "import numpy as np\n",
    "x = np.array([[1,2,3],[4,5,6]])\n",
    "print(\"****5. How to reshape an array?****\")\n",
    "print(\"Input array :\", x)\n",
    "print(\"Output array :\",x.reshape(3,2))\n"
   ]
  },
  {
   "cell_type": "code",
   "execution_count": 7,
   "metadata": {},
   "outputs": [
    {
     "name": "stdout",
     "output_type": "stream",
     "text": [
      "****6. Convert a 1D array to a 2D array with 2 rows****\n",
      "Input array : [0 1 2 3 4 5 6 7]\n",
      "Output array : [[0 1 2 3]\n",
      " [4 5 6 7]]\n"
     ]
    }
   ],
   "source": [
    "#6.\tConvert a 1D array to a 2D array with 2 rows\n",
    "import numpy as np\n",
    "x = np.arange(0,8)\n",
    "print(\"****6. Convert a 1D array to a 2D array with 2 rows****\")\n",
    "print(\"Input array :\", x)\n",
    "print(\"Output array :\",x.reshape(2,4))\n"
   ]
  },
  {
   "cell_type": "code",
   "execution_count": 9,
   "metadata": {},
   "outputs": [
    {
     "name": "stdout",
     "output_type": "stream",
     "text": [
      "****Given an array  a  = [1,2,3,4,5,6,7,8,9] , create  new array b from a such that b includes all odd numbers and 4 multiples.****\n",
      "Input array a : [1 2 3 4 5 6 7 8 9]\n",
      "New array b : [1 3 4 5 7 8 9]\n"
     ]
    }
   ],
   "source": [
    "#7.\tGiven an array  a  = [1,2,3,4,5,6,7,8,9] , create  new array b from a such that b includes all odd numbers and 4 multiples. \n",
    "import numpy as np\n",
    "\n",
    "a = np.arange(1,10)\n",
    "print(\"****Given an array  a  = [1,2,3,4,5,6,7,8,9] , create  new array b from a such that b includes all odd numbers and 4 multiples.****\")\n",
    "print(\"Input array a :\", a)\n",
    "n = len(a)\n",
    "count = 0\n",
    "for i in range(0,n):\n",
    "    if ((a[i]%2 != 0) or (a[i]%4 == 0)):\n",
    "        count += 1\n",
    "b = np.empty(count,dtype=int)\n",
    "j = 0\n",
    "for i in range(0,n):\n",
    "    if ((a[i]%2 != 0) or (a[i]%4 == 0)):\n",
    "        b[j] = a[i]\n",
    "        j +=1\n",
    "print(\"New array b :\",b)\n"
   ]
  },
  {
   "cell_type": "code",
   "execution_count": 11,
   "metadata": {},
   "outputs": [
    {
     "name": "stdout",
     "output_type": "stream",
     "text": [
      "****Given array, check if there are any null values and print them out.****\n",
      "Input array a : [[ 1.  2. nan]\n",
      " [ 4. nan  6.]\n",
      " [nan  8.  9.]]\n",
      "\n",
      " Output :\n",
      "Element in Row 0 and Column 2 is nan\n",
      "Element in Row 1 and Column 1 is nan\n",
      "Element in Row 2 and Column 0 is nan\n"
     ]
    }
   ],
   "source": [
    "# 8.\tGiven array, check if there are any null values and print them out. \n",
    "import numpy as np\n",
    "a = np.array([[1,2, np.nan ],[4, np.nan ,6],[np.nan ,8, 9]])\n",
    "print(\"****Given array, check if there are any null values and print them out.****\")\n",
    "print(\"Input array a :\", a)\n",
    "n = a.shape\n",
    "i = 0\n",
    "j = 0\n",
    "result = np.equal(np.isnan(a),True)\n",
    "print(\"\\n Output :\")\n",
    "for i in range(0,n[0]):\n",
    "    for j in range(0,n[1]):\n",
    "        if result[i][j] == True:\n",
    "            print(\"Element in Row {} and Column {} is {}\".format(i,j,a[i][j]))\n"
   ]
  },
  {
   "cell_type": "code",
   "execution_count": 12,
   "metadata": {},
   "outputs": [
    {
     "name": "stdout",
     "output_type": "stream",
     "text": [
      "****How to replace all missing values with 0 in a numpy array?****\n",
      "Input array a : [[ 1.  2. nan]\n",
      " [ 4. nan  6.]\n",
      " [nan  8.  9.]]\n",
      "Output array a : [[1. 2. 0.]\n",
      " [4. 0. 6.]\n",
      " [0. 8. 9.]]\n"
     ]
    }
   ],
   "source": [
    "#9.\tHow to replace all missing values with 0 in a numpy array?\n",
    "import numpy as np\n",
    "\n",
    "a = np.array([[1,2, np.nan ],[4, np.nan ,6],[np.nan ,8, 9]])\n",
    "print(\"****How to replace all missing values with 0 in a numpy array?****\")\n",
    "print(\"Input array a :\", a)\n",
    "n = a.shape\n",
    "i = 0\n",
    "j = 0\n",
    "a[np.where(np.isnan(a))] = 0\n",
    "print(\"Output array a :\", a)\n"
   ]
  },
  {
   "cell_type": "code",
   "execution_count": 13,
   "metadata": {},
   "outputs": [
    {
     "name": "stdout",
     "output_type": "stream",
     "text": [
      "****10. How to find the count of each unique number in a NumPy array?****\n",
      "Input array a : [[1 2 3 4 4]\n",
      " [4 5 3 1 2]\n",
      " [1 4 5 3 2]]\n",
      "[array([1, 2, 3, 4, 5])]\n",
      "Count of unique number in array : 5\n"
     ]
    }
   ],
   "source": [
    "# 10.\tHow to find the count of each unique number in a NumPy array?\n",
    "import numpy as np\n",
    "a = np.array([[1,2,3,4,4],[4,5,3,1,2],[1,4,5,3,2]])\n",
    "print(\"****10. How to find the count of each unique number in a NumPy array?****\")\n",
    "print(\"Input array a :\", a)\n",
    "b = [np.unique(a)]\n",
    "print(b)\n",
    "print(\"Count of unique number in array :\", len(np.unique(a)))\n"
   ]
  },
  {
   "cell_type": "code",
   "execution_count": 16,
   "metadata": {},
   "outputs": [
    {
     "name": "stdout",
     "output_type": "stream",
     "text": [
      "****11. How to convert a numeric to a categorical (text) array?****\n",
      "<35 - Below Average \n",
      " 35 to 60 - Average \n",
      " >60 - Above Average\n",
      "Numeric array a :\n",
      " [[35 40 65]\n",
      " [50 65 80]\n",
      " [95 80 50]]\n",
      "\n",
      "Categorical Array :\n",
      " [['Average' 'Average' 'Above Average']\n",
      " ['Average' 'Above Average' 'Above Average']\n",
      " ['Above Average' 'Above Average' 'Average']]\n"
     ]
    }
   ],
   "source": [
    "#11.\tHow to convert a numeric to a categorical (text) array?\n",
    "import numpy as np\n",
    "a = np.array([[35, 40, 65],[50, 65, 80],[95, 80, 50]],dtype=int)\n",
    "print(\"****11. How to convert a numeric to a categorical (text) array?****\")\n",
    "print(\"<35 - Below Average \\n 35 to 60 - Average \\n >60 - Above Average\")\n",
    "print(\"Numeric array a :\\n\", a)\n",
    "n = a.shape\n",
    "x = len(a)\n",
    "count = 0\n",
    "i = 0\n",
    "j = 0\n",
    "for i in range(0,x):\n",
    "    count += 1\n",
    "b = np.empty((n[0],n[1]), dtype=object)\n",
    "for i in range(0,n[0]):\n",
    "    for j in range(0,n[1]): \n",
    "        if a[i][j] < 35:\n",
    "            b[i][j] = \"Below Average\"\n",
    "        elif a[i][j]>=35 and a[i][j]<=60:\n",
    "            b[i][j] = \"Average\"\n",
    "        else:\n",
    "            b[i][j] = \"Above Average\"\n",
    "print(\"\\nCategorical Array :\\n\",b)\n"
   ]
  },
  {
   "cell_type": "code",
   "execution_count": 17,
   "metadata": {},
   "outputs": [
    {
     "name": "stdout",
     "output_type": "stream",
     "text": [
      "****12. Write a program to print all numbers between 99 and 299 which are either divisible by 5 or 7. Exclude the elements which are divisible by both. ****\n",
      "Input array a :\n",
      " [ 99 100 101 102 103 104 105 106 107 108 109 110 111 112 113 114 115 116\n",
      " 117 118 119 120 121 122 123 124 125 126 127 128 129 130 131 132 133 134\n",
      " 135 136 137 138 139 140 141 142 143 144 145 146 147 148 149 150 151 152\n",
      " 153 154 155 156 157 158 159 160 161 162 163 164 165 166 167 168 169 170\n",
      " 171 172 173 174 175 176 177 178 179 180 181 182 183 184 185 186 187 188\n",
      " 189 190 191 192 193 194 195 196 197 198 199 200 201 202 203 204 205 206\n",
      " 207 208 209 210 211 212 213 214 215 216 217 218 219 220 221 222 223 224\n",
      " 225 226 227 228 229 230 231 232 233 234 235 236 237 238 239 240 241 242\n",
      " 243 244 245 246 247 248 249 250 251 252 253 254 255 256 257 258 259 260\n",
      " 261 262 263 264 265 266 267 268 269 270 271 272 273 274 275 276 277 278\n",
      " 279 280 281 282 283 284 285 286 287 288 289 290 291 292 293 294 295 296\n",
      " 297 298 299]\n",
      "Numbers divisbile by 5 or 7, but not both :  [100, 110, 112, 115, 119, 120, 125, 126, 130, 133, 135, 145, 147, 150, 154, 155, 160, 161, 165, 168, 170, 180, 182, 185, 189, 190, 195, 196, 200, 203, 205, 215, 217, 220, 224, 225, 230, 231, 235, 238, 240, 250, 252, 255, 259, 260, 265, 266, 270, 273, 275, 285, 287, 290, 294, 295]\n",
      "Number of elements :  56\n"
     ]
    }
   ],
   "source": [
    "#12.\tWrite a program to print all numbers between 99 and 299 which are either divisible by 5 or 7. Exclude the elements which are divisible by both. \n",
    "import numpy as np\n",
    "\n",
    "print(\"****12. Write a program to print all numbers between 99 and 299 which are either divisible by 5 or 7. Exclude the elements which are divisible by both. ****\")\n",
    "a = np.arange(99,300)\n",
    "print(\"Input array a :\\n\", a)\n",
    "n = len(a)\n",
    "b = []\n",
    "count = 0\n",
    "i = 0\n",
    "for i in range(0,n):\n",
    "    if a[i]%5==0 or a[i]%7==0:\n",
    "        if (a[i]%35!=0):\n",
    "            b.append(a[i])\n",
    "print(\"Numbers divisbile by 5 or 7, but not both : \", b)\n",
    "print(\"Number of elements : \", len(b))\n"
   ]
  },
  {
   "cell_type": "code",
   "execution_count": 18,
   "metadata": {},
   "outputs": [
    {
     "name": "stdout",
     "output_type": "stream",
     "text": [
      "****13. Write a program to reverse an array and print (Don’t use inbuilt reverse functions) ****\n",
      "Input array a :\n",
      " [[1 2 3 6]\n",
      " [4 5 6 7]\n",
      " [7 8 9 1]]\n",
      "Reversed Array :\n",
      "  [[6 3 2 1]\n",
      " [7 6 5 4]\n",
      " [1 9 8 7]]\n"
     ]
    }
   ],
   "source": [
    "#13.\tWrite a program to reverse an array and print (Don’t use inbuilt reverse functions)\n",
    "import numpy as np\n",
    "\n",
    "print(\"****13. Write a program to reverse an array and print (Don’t use inbuilt reverse functions) ****\")\n",
    "a = np.array([[1,2,3,6],[4,5,6,7],[7,8,9,1]])\n",
    "print(\"Input array a :\\n\", a)\n",
    "n = a.shape\n",
    "b = np.zeros((n[0],n[1]), dtype = int)\n",
    "i = 0\n",
    "j = 0\n",
    "for i in range(0,n[0]):\n",
    "    ind = 1\n",
    "    for j in range(0,n[1]):\n",
    "        b[i][j] = a[i][n[1]-ind]\n",
    "        ind +=1\n",
    "print(\"Reversed Array :\\n \", b)\n",
    "\n"
   ]
  },
  {
   "cell_type": "code",
   "execution_count": null,
   "metadata": {},
   "outputs": [],
   "source": []
  }
 ],
 "metadata": {
  "kernelspec": {
   "display_name": "Python 3",
   "language": "python",
   "name": "python3"
  },
  "language_info": {
   "codemirror_mode": {
    "name": "ipython",
    "version": 3
   },
   "file_extension": ".py",
   "mimetype": "text/x-python",
   "name": "python",
   "nbconvert_exporter": "python",
   "pygments_lexer": "ipython3",
   "version": "3.7.6"
  }
 },
 "nbformat": 4,
 "nbformat_minor": 4
}
